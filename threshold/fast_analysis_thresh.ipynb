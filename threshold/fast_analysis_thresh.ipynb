{
 "cells": [
  {
   "cell_type": "code",
   "execution_count": 1,
   "id": "699074d1-254e-4971-a21b-c678784273ff",
   "metadata": {},
   "outputs": [],
   "source": [
    "import cugraph\n",
    "import cudf\n",
    "\n",
    "import numpy as np\n",
    "import os\n",
    "\n",
    "from tqdm.notebook import tqdm"
   ]
  },
  {
   "cell_type": "code",
   "execution_count": 2,
   "id": "a011a373-9c05-45c6-be60-e70f3e5cb2a9",
   "metadata": {},
   "outputs": [],
   "source": [
    "file = 'matrices_sin_filt/cvv_siS01.txt'\n",
    "output_folder = 'parametros_matrices_no_filtradas'"
   ]
  },
  {
   "cell_type": "code",
   "execution_count": 3,
   "id": "6582e2c6-8876-4f15-84ff-ec6a82b68ab0",
   "metadata": {},
   "outputs": [],
   "source": [
    "file_name = file.split(os.sep)[-1].split('-')[-1].split('.')[0]\n",
    "\n",
    "df = cudf.read_csv(\n",
    "    filepath_or_buffer=file,\n",
    "    header=None,\n",
    "    names=['Source', 'Target', 'Weight'],\n",
    "    sep=' ')\n",
    "\n",
    "df = df[df['Weight'] > 0.800]"
   ]
  },
  {
   "cell_type": "code",
   "execution_count": 4,
   "id": "26719c5d-0ef2-4e02-a921-ac3313461d0b",
   "metadata": {},
   "outputs": [
    {
     "data": {
      "text/plain": [
       "[95, 90, 85, 80, 75, 70, 65, 60, 55, 50, 45, 40, 35, 30, 25, 20, 15, 10, 5]"
      ]
     },
     "execution_count": 4,
     "metadata": {},
     "output_type": "execute_result"
    }
   ],
   "source": [
    "percentages = [5 * (20 - i) for i in range(1, 20)] # [5, 95]\n",
    "#percentages = [5 * (10 - i) for i in range(0,10)] # [10,50]\n",
    "\n",
    "percentages"
   ]
  },
  {
   "cell_type": "code",
   "execution_count": 5,
   "id": "a8695dba-dc1b-4575-8f05-19c7d4f8b13b",
   "metadata": {},
   "outputs": [
    {
     "data": {
      "application/vnd.jupyter.widget-view+json": {
       "model_id": "3ee5465984174ce9b8bdbbf5797f72dd",
       "version_major": 2,
       "version_minor": 0
      },
      "text/plain": [
       "  0%|          | 0/198 [00:00<?, ?it/s]"
      ]
     },
     "metadata": {},
     "output_type": "display_data"
    },
    {
     "data": {
      "text/html": [
       "<div>\n",
       "<style scoped>\n",
       "    .dataframe tbody tr th:only-of-type {\n",
       "        vertical-align: middle;\n",
       "    }\n",
       "\n",
       "    .dataframe tbody tr th {\n",
       "        vertical-align: top;\n",
       "    }\n",
       "\n",
       "    .dataframe thead th {\n",
       "        text-align: right;\n",
       "    }\n",
       "</style>\n",
       "<table border=\"1\" class=\"dataframe\">\n",
       "  <thead>\n",
       "    <tr style=\"text-align: right;\">\n",
       "      <th></th>\n",
       "      <th>Weight</th>\n",
       "      <th>N</th>\n",
       "      <th>n%</th>\n",
       "      <th>closest_n%</th>\n",
       "    </tr>\n",
       "  </thead>\n",
       "  <tbody>\n",
       "    <tr>\n",
       "      <th>4</th>\n",
       "      <td>0.805</td>\n",
       "      <td>1654180</td>\n",
       "      <td>94.476631</td>\n",
       "      <td>95</td>\n",
       "    </tr>\n",
       "    <tr>\n",
       "      <th>7</th>\n",
       "      <td>0.808</td>\n",
       "      <td>1583870</td>\n",
       "      <td>90.460955</td>\n",
       "      <td>90</td>\n",
       "    </tr>\n",
       "    <tr>\n",
       "      <th>11</th>\n",
       "      <td>0.812</td>\n",
       "      <td>1493216</td>\n",
       "      <td>85.283353</td>\n",
       "      <td>85</td>\n",
       "    </tr>\n",
       "    <tr>\n",
       "      <th>15</th>\n",
       "      <td>0.816</td>\n",
       "      <td>1404314</td>\n",
       "      <td>80.205816</td>\n",
       "      <td>80</td>\n",
       "    </tr>\n",
       "    <tr>\n",
       "      <th>19</th>\n",
       "      <td>0.820</td>\n",
       "      <td>1319568</td>\n",
       "      <td>75.365643</td>\n",
       "      <td>75</td>\n",
       "    </tr>\n",
       "    <tr>\n",
       "      <th>24</th>\n",
       "      <td>0.825</td>\n",
       "      <td>1219338</td>\n",
       "      <td>69.641119</td>\n",
       "      <td>70</td>\n",
       "    </tr>\n",
       "    <tr>\n",
       "      <th>28</th>\n",
       "      <td>0.829</td>\n",
       "      <td>1142362</td>\n",
       "      <td>65.244722</td>\n",
       "      <td>65</td>\n",
       "    </tr>\n",
       "    <tr>\n",
       "      <th>33</th>\n",
       "      <td>0.834</td>\n",
       "      <td>1050954</td>\n",
       "      <td>60.024056</td>\n",
       "      <td>60</td>\n",
       "    </tr>\n",
       "    <tr>\n",
       "      <th>38</th>\n",
       "      <td>0.839</td>\n",
       "      <td>963942</td>\n",
       "      <td>55.054464</td>\n",
       "      <td>55</td>\n",
       "    </tr>\n",
       "    <tr>\n",
       "      <th>43</th>\n",
       "      <td>0.844</td>\n",
       "      <td>882174</td>\n",
       "      <td>50.384376</td>\n",
       "      <td>50</td>\n",
       "    </tr>\n",
       "    <tr>\n",
       "      <th>49</th>\n",
       "      <td>0.850</td>\n",
       "      <td>789666</td>\n",
       "      <td>45.100886</td>\n",
       "      <td>45</td>\n",
       "    </tr>\n",
       "    <tr>\n",
       "      <th>55</th>\n",
       "      <td>0.856</td>\n",
       "      <td>703786</td>\n",
       "      <td>40.195946</td>\n",
       "      <td>40</td>\n",
       "    </tr>\n",
       "    <tr>\n",
       "      <th>62</th>\n",
       "      <td>0.863</td>\n",
       "      <td>611946</td>\n",
       "      <td>34.950608</td>\n",
       "      <td>35</td>\n",
       "    </tr>\n",
       "    <tr>\n",
       "      <th>69</th>\n",
       "      <td>0.870</td>\n",
       "      <td>527968</td>\n",
       "      <td>30.154299</td>\n",
       "      <td>30</td>\n",
       "    </tr>\n",
       "    <tr>\n",
       "      <th>77</th>\n",
       "      <td>0.878</td>\n",
       "      <td>441276</td>\n",
       "      <td>25.202983</td>\n",
       "      <td>25</td>\n",
       "    </tr>\n",
       "    <tr>\n",
       "      <th>87</th>\n",
       "      <td>0.888</td>\n",
       "      <td>346930</td>\n",
       "      <td>19.814517</td>\n",
       "      <td>20</td>\n",
       "    </tr>\n",
       "    <tr>\n",
       "      <th>98</th>\n",
       "      <td>0.899</td>\n",
       "      <td>260248</td>\n",
       "      <td>14.863772</td>\n",
       "      <td>15</td>\n",
       "    </tr>\n",
       "    <tr>\n",
       "      <th>112</th>\n",
       "      <td>0.913</td>\n",
       "      <td>173556</td>\n",
       "      <td>9.912456</td>\n",
       "      <td>10</td>\n",
       "    </tr>\n",
       "    <tr>\n",
       "      <th>132</th>\n",
       "      <td>0.933</td>\n",
       "      <td>88564</td>\n",
       "      <td>5.058233</td>\n",
       "      <td>5</td>\n",
       "    </tr>\n",
       "  </tbody>\n",
       "</table>\n",
       "</div>"
      ],
      "text/plain": [
       "     Weight        N         n%  closest_n%\n",
       "4     0.805  1654180  94.476631          95\n",
       "7     0.808  1583870  90.460955          90\n",
       "11    0.812  1493216  85.283353          85\n",
       "15    0.816  1404314  80.205816          80\n",
       "19    0.820  1319568  75.365643          75\n",
       "24    0.825  1219338  69.641119          70\n",
       "28    0.829  1142362  65.244722          65\n",
       "33    0.834  1050954  60.024056          60\n",
       "38    0.839   963942  55.054464          55\n",
       "43    0.844   882174  50.384376          50\n",
       "49    0.850   789666  45.100886          45\n",
       "55    0.856   703786  40.195946          40\n",
       "62    0.863   611946  34.950608          35\n",
       "69    0.870   527968  30.154299          30\n",
       "77    0.878   441276  25.202983          25\n",
       "87    0.888   346930  19.814517          20\n",
       "98    0.899   260248  14.863772          15\n",
       "112   0.913   173556   9.912456          10\n",
       "132   0.933    88564   5.058233           5"
      ]
     },
     "execution_count": 5,
     "metadata": {},
     "output_type": "execute_result"
    }
   ],
   "source": [
    "fields = []\n",
    "\n",
    "list_weights = df['Weight'].drop_duplicates().to_arrow().to_pylist()\n",
    "nodes_weight = cudf.concat([\n",
    "    df[['Source', 'Weight']].rename(columns={\"Source\": \"Vertex\", \"Weight\": \"Weight\"}),\n",
    "    df[['Target', 'Weight']].rename(columns={\"Target\": \"Vertex\", \"Weight\": \"Weight\"})\n",
    "                            ])\n",
    "node_list = nodes_weight['Vertex'].drop_duplicates().to_arrow().to_pylist()\n",
    "\n",
    "\n",
    "for weight in tqdm(list_weights):\n",
    "    n = len(nodes_weight[nodes_weight['Weight'] >= weight])\n",
    "    fields.append({\n",
    "            'Weight': weight,\n",
    "            'N': n,\n",
    "            'n%': (n / len(nodes_weight)) * 100\n",
    "        })\n",
    "\n",
    "\n",
    "df_percentages = cudf.DataFrame(fields).sort_values(by='n%', ascending=False)\n",
    "weight_df = cudf.DataFrame()\n",
    "closest_percentage = []\n",
    "\n",
    "for percentage in percentages:\n",
    "    val_list = np.abs(df_percentages['n%'] - percentage).to_arrow().to_pylist()\n",
    "    val_index = val_list.index(\n",
    "        min(val_list)\n",
    "    )\n",
    "    value = float(df_percentages['n%'].values[val_index])\n",
    "    weight_df = cudf.concat([\n",
    "                       weight_df,\n",
    "                       df_percentages[df_percentages['n%'] == value]\n",
    "\n",
    "    ])\n",
    "    for i in range(df_percentages[df_percentages['n%'] == value].shape[0]):\n",
    "        closest_percentage.append(percentage)\n",
    "\n",
    "weight_df['closest_n%'] = closest_percentage\n",
    "\n",
    "weight_df"
   ]
  },
  {
   "cell_type": "code",
   "execution_count": 6,
   "id": "0f07c949-a5ed-4833-8592-c4b5de5f10b0",
   "metadata": {},
   "outputs": [],
   "source": [
    "def clustering(G):\n",
    "    degree = G.in_degree()\n",
    "    \n",
    "    clusters = degree.merge(cugraph.triangle_count(G))\n",
    "    clusters = clusters[clusters['counts'] >= 1]\n",
    "    \n",
    "    return (clusters['counts']/(clusters['degree']*(clusters['degree'] - 1))).sum()"
   ]
  },
  {
   "cell_type": "code",
   "execution_count": 7,
   "id": "c12f91c4-2974-49d2-9d66-52f34b4a2f7f",
   "metadata": {},
   "outputs": [],
   "source": [
    "def distance(G, nodes):\n",
    "    dist = 0\n",
    "    inv_dist = 0\n",
    "\n",
    "    for node in tqdm(nodes):\n",
    "        distances = cugraph.sssp(G, node)\n",
    "        dist += distances[distances['predecessor'] > -1]['distance'].sum()/(len(nodes)*(len(nodes) - 1))\n",
    "        inv_dist += (1/distances[distances['predecessor'] > -1]['distance']).sum()/(len(nodes)*(len(nodes) - 1))\n",
    "    return dist, inv_dist"
   ]
  },
  {
   "cell_type": "code",
   "execution_count": 8,
   "id": "1ceef0eb-e1b5-4e57-85a3-bec91ee232e8",
   "metadata": {},
   "outputs": [],
   "source": [
    "def shannon_entropy(G):\n",
    "    hitcount = G.in_degree()\n",
    "    frequencies = hitcount[hitcount['degree'] > 0]['degree'].value_counts().to_numpy()\n",
    "\n",
    "    p_k = frequencies/sum(frequencies)\n",
    "    return sum(-p_k * np.log(p_k))"
   ]
  },
  {
   "cell_type": "code",
   "execution_count": 9,
   "id": "662e30f1-2a24-4e08-83cf-90f714bc7e7d",
   "metadata": {},
   "outputs": [],
   "source": [
    "def get_params():\n",
    "    \n",
    "    print('##### BEGING THE PROCESS OF OBTAINING THE NETWORK PARAMETERS USING DIFFERENT THRESHOLDS ########')\n",
    "    print(f'\\n 100% - Weight threshold: {min(list_weights):.3f}')\n",
    "    \n",
    "    G = cugraph.Graph()\n",
    "    G.from_cudf_edgelist(df, source='Source', destination='Target', renumber=False)\n",
    "\n",
    "    clustering_zero = clustering(G)\n",
    "    distance_zero, efficiency_zero = distance(G, node_list)\n",
    "    shannon_zero = shannon_entropy(G)\n",
    "\n",
    "    fields = [{\n",
    "              'Percentage': 100,\n",
    "             'Real Percentage': 100,\n",
    "              'Number of voxels': len(node_list),\n",
    "              'Weight': min(list_weights),\n",
    "              'Distance': distance_zero,\n",
    "              'Clustering': clustering_zero,\n",
    "              'Global Efficiency': efficiency_zero,\n",
    "              'Shannon Entropy': shannon_zero\n",
    "          }]\n",
    "    \n",
    "    G.clear()\n",
    "    \n",
    "    if weight_df.empty:\n",
    "        return cudf.DataFrame()\n",
    "\n",
    "    for percentage in percentages:\n",
    "        \n",
    "        weight = weight_df[weight_df['closest_n%'] == percentage]['Weight'].to_numpy()[0]\n",
    "        print(f'\\n {percentage}% - Weight threshold: {weight:.3f}')\n",
    "        filt_df = df[df['Weight'] >= weight]\n",
    "        nodes = nodes_weight[nodes_weight['Weight'] >= weight]['Vertex'].drop_duplicates().to_arrow().to_pylist()\n",
    "\n",
    "        G = cugraph.Graph()\n",
    "        G.from_cudf_edgelist(filt_df, source='Source', destination='Target', renumber=False)\n",
    "\n",
    "        if len(G.edges()) < 1:\n",
    "            continue\n",
    "      \n",
    "        clustering_coeff = clustering(G)\n",
    "        distance_coeff, efficiency_coeff = distance(G, nodes)\n",
    "        shannon_coeff = shannon_entropy(G)\n",
    "\n",
    "        fields.append({\n",
    "              'Percentage': percentage,\n",
    "              'Real Percentage': weight_df[weight_df['closest_n%'] == percentage]['n%'].to_numpy()[0],\n",
    "              'Number of voxels': len(nodes),\n",
    "              'Weight': weight_df[weight_df['closest_n%'] == percentage]['Weight'].to_numpy()[0],\n",
    "              'Distance': distance_coeff,\n",
    "              'Clustering': clustering_coeff,\n",
    "              'Global Efficiency': efficiency_coeff,\n",
    "              'Shannon Entropy': shannon_coeff\n",
    "          })\n",
    "        G.clear()\n",
    "\n",
    "    dataframe = cudf.DataFrame(fields)\n",
    "\n",
    "    if dataframe.empty:\n",
    "        return cudf.DataFrame()\n",
    "\n",
    "    dataframe.to_csv(\n",
    "          path_or_buf=f'{output_folder}/params-{file_name}.txt',\n",
    "          index=False,\n",
    "          header=True,\n",
    "          sep='\\t',\n",
    "      )\n",
    "\n",
    "    return dataframe"
   ]
  },
  {
   "cell_type": "code",
   "execution_count": 10,
   "id": "a1182f83-ee02-44b2-b317-8c7c2d0658b1",
   "metadata": {},
   "outputs": [
    {
     "name": "stdout",
     "output_type": "stream",
     "text": [
      "##### BEGING THE PROCESS OF OBTAINING THE NETWORK PARAMETERS USING DIFFERENT THRESHOLDS ########\n",
      "\n",
      " 100% - Weight threshold: 0.801\n"
     ]
    },
    {
     "data": {
      "application/vnd.jupyter.widget-view+json": {
       "model_id": "d8668e87b68145f2ba59224f2c56bea7",
       "version_major": 2,
       "version_minor": 0
      },
      "text/plain": [
       "  0%|          | 0/13132 [00:00<?, ?it/s]"
      ]
     },
     "metadata": {},
     "output_type": "display_data"
    },
    {
     "name": "stdout",
     "output_type": "stream",
     "text": [
      "\n",
      " 95% - Weight threshold: 0.805\n"
     ]
    },
    {
     "data": {
      "application/vnd.jupyter.widget-view+json": {
       "model_id": "735920c0dd304a03ad1af18b8fd89562",
       "version_major": 2,
       "version_minor": 0
      },
      "text/plain": [
       "  0%|          | 0/12924 [00:00<?, ?it/s]"
      ]
     },
     "metadata": {},
     "output_type": "display_data"
    },
    {
     "name": "stdout",
     "output_type": "stream",
     "text": [
      "\n",
      " 90% - Weight threshold: 0.808\n"
     ]
    },
    {
     "data": {
      "application/vnd.jupyter.widget-view+json": {
       "model_id": "3fe33c5edef5483cb5a94c62f7902b4c",
       "version_major": 2,
       "version_minor": 0
      },
      "text/plain": [
       "  0%|          | 0/12790 [00:00<?, ?it/s]"
      ]
     },
     "metadata": {},
     "output_type": "display_data"
    },
    {
     "name": "stdout",
     "output_type": "stream",
     "text": [
      "\n",
      " 85% - Weight threshold: 0.812\n"
     ]
    },
    {
     "data": {
      "application/vnd.jupyter.widget-view+json": {
       "model_id": "dbe9f309e60645a5afbea06f43c30ba9",
       "version_major": 2,
       "version_minor": 0
      },
      "text/plain": [
       "  0%|          | 0/12583 [00:00<?, ?it/s]"
      ]
     },
     "metadata": {},
     "output_type": "display_data"
    },
    {
     "name": "stdout",
     "output_type": "stream",
     "text": [
      "\n",
      " 80% - Weight threshold: 0.816\n"
     ]
    },
    {
     "data": {
      "application/vnd.jupyter.widget-view+json": {
       "model_id": "1fedfc5b939840458fe5a0cf1f4d6249",
       "version_major": 2,
       "version_minor": 0
      },
      "text/plain": [
       "  0%|          | 0/12333 [00:00<?, ?it/s]"
      ]
     },
     "metadata": {},
     "output_type": "display_data"
    },
    {
     "name": "stdout",
     "output_type": "stream",
     "text": [
      "\n",
      " 75% - Weight threshold: 0.820\n"
     ]
    },
    {
     "data": {
      "application/vnd.jupyter.widget-view+json": {
       "model_id": "e319b3bb06814665b3283bb90b0afafa",
       "version_major": 2,
       "version_minor": 0
      },
      "text/plain": [
       "  0%|          | 0/12116 [00:00<?, ?it/s]"
      ]
     },
     "metadata": {},
     "output_type": "display_data"
    },
    {
     "name": "stdout",
     "output_type": "stream",
     "text": [
      "\n",
      " 70% - Weight threshold: 0.825\n"
     ]
    },
    {
     "data": {
      "application/vnd.jupyter.widget-view+json": {
       "model_id": "d2c8f4e04c964afeb7b7f0a15eac41ba",
       "version_major": 2,
       "version_minor": 0
      },
      "text/plain": [
       "  0%|          | 0/11811 [00:00<?, ?it/s]"
      ]
     },
     "metadata": {},
     "output_type": "display_data"
    },
    {
     "name": "stdout",
     "output_type": "stream",
     "text": [
      "\n",
      " 65% - Weight threshold: 0.829\n"
     ]
    },
    {
     "data": {
      "application/vnd.jupyter.widget-view+json": {
       "model_id": "512a6113b4af48e480fc6b6718ed0932",
       "version_major": 2,
       "version_minor": 0
      },
      "text/plain": [
       "  0%|          | 0/11586 [00:00<?, ?it/s]"
      ]
     },
     "metadata": {},
     "output_type": "display_data"
    },
    {
     "name": "stdout",
     "output_type": "stream",
     "text": [
      "\n",
      " 60% - Weight threshold: 0.834\n"
     ]
    },
    {
     "data": {
      "application/vnd.jupyter.widget-view+json": {
       "model_id": "9a9eb110ee40437594061b4f5d818ef9",
       "version_major": 2,
       "version_minor": 0
      },
      "text/plain": [
       "  0%|          | 0/11266 [00:00<?, ?it/s]"
      ]
     },
     "metadata": {},
     "output_type": "display_data"
    },
    {
     "name": "stdout",
     "output_type": "stream",
     "text": [
      "\n",
      " 55% - Weight threshold: 0.839\n"
     ]
    },
    {
     "data": {
      "application/vnd.jupyter.widget-view+json": {
       "model_id": "9812de8c35c843f9a1fcf08c176779c6",
       "version_major": 2,
       "version_minor": 0
      },
      "text/plain": [
       "  0%|          | 0/10972 [00:00<?, ?it/s]"
      ]
     },
     "metadata": {},
     "output_type": "display_data"
    },
    {
     "name": "stdout",
     "output_type": "stream",
     "text": [
      "\n",
      " 50% - Weight threshold: 0.844\n"
     ]
    },
    {
     "data": {
      "application/vnd.jupyter.widget-view+json": {
       "model_id": "838eeec3088541f4b48ebce1bc379383",
       "version_major": 2,
       "version_minor": 0
      },
      "text/plain": [
       "  0%|          | 0/10657 [00:00<?, ?it/s]"
      ]
     },
     "metadata": {},
     "output_type": "display_data"
    },
    {
     "name": "stdout",
     "output_type": "stream",
     "text": [
      "\n",
      " 45% - Weight threshold: 0.850\n"
     ]
    },
    {
     "data": {
      "application/vnd.jupyter.widget-view+json": {
       "model_id": "4bdcd0a73689435ba3d1fb8da9a03dd8",
       "version_major": 2,
       "version_minor": 0
      },
      "text/plain": [
       "  0%|          | 0/10266 [00:00<?, ?it/s]"
      ]
     },
     "metadata": {},
     "output_type": "display_data"
    },
    {
     "name": "stdout",
     "output_type": "stream",
     "text": [
      "\n",
      " 40% - Weight threshold: 0.856\n"
     ]
    },
    {
     "data": {
      "application/vnd.jupyter.widget-view+json": {
       "model_id": "e609be1046ef4272be9c758ddad3dbfc",
       "version_major": 2,
       "version_minor": 0
      },
      "text/plain": [
       "  0%|          | 0/9837 [00:00<?, ?it/s]"
      ]
     },
     "metadata": {},
     "output_type": "display_data"
    },
    {
     "name": "stdout",
     "output_type": "stream",
     "text": [
      "\n",
      " 35% - Weight threshold: 0.863\n"
     ]
    },
    {
     "data": {
      "application/vnd.jupyter.widget-view+json": {
       "model_id": "e805d4ba8e144c1cb7eb2999babbc1ca",
       "version_major": 2,
       "version_minor": 0
      },
      "text/plain": [
       "  0%|          | 0/9352 [00:00<?, ?it/s]"
      ]
     },
     "metadata": {},
     "output_type": "display_data"
    },
    {
     "name": "stdout",
     "output_type": "stream",
     "text": [
      "\n",
      " 30% - Weight threshold: 0.870\n"
     ]
    },
    {
     "data": {
      "application/vnd.jupyter.widget-view+json": {
       "model_id": "484a8b551e2042c9afc86cb6856c6799",
       "version_major": 2,
       "version_minor": 0
      },
      "text/plain": [
       "  0%|          | 0/8885 [00:00<?, ?it/s]"
      ]
     },
     "metadata": {},
     "output_type": "display_data"
    },
    {
     "name": "stdout",
     "output_type": "stream",
     "text": [
      "\n",
      " 25% - Weight threshold: 0.878\n"
     ]
    },
    {
     "data": {
      "application/vnd.jupyter.widget-view+json": {
       "model_id": "13f5be6abb5443429ff4c92803c118ae",
       "version_major": 2,
       "version_minor": 0
      },
      "text/plain": [
       "  0%|          | 0/8336 [00:00<?, ?it/s]"
      ]
     },
     "metadata": {},
     "output_type": "display_data"
    },
    {
     "name": "stdout",
     "output_type": "stream",
     "text": [
      "\n",
      " 20% - Weight threshold: 0.888\n"
     ]
    },
    {
     "data": {
      "application/vnd.jupyter.widget-view+json": {
       "model_id": "a69a5eb2e8d64e02b58f2526b9601e96",
       "version_major": 2,
       "version_minor": 0
      },
      "text/plain": [
       "  0%|          | 0/7558 [00:00<?, ?it/s]"
      ]
     },
     "metadata": {},
     "output_type": "display_data"
    },
    {
     "name": "stdout",
     "output_type": "stream",
     "text": [
      "\n",
      " 15% - Weight threshold: 0.899\n"
     ]
    },
    {
     "data": {
      "application/vnd.jupyter.widget-view+json": {
       "model_id": "c6a77382ae05477a8247fd9e1f271216",
       "version_major": 2,
       "version_minor": 0
      },
      "text/plain": [
       "  0%|          | 0/6737 [00:00<?, ?it/s]"
      ]
     },
     "metadata": {},
     "output_type": "display_data"
    },
    {
     "name": "stdout",
     "output_type": "stream",
     "text": [
      "\n",
      " 10% - Weight threshold: 0.913\n"
     ]
    },
    {
     "data": {
      "application/vnd.jupyter.widget-view+json": {
       "model_id": "2ce26d0e09df45b1a7b322c0aeb93b52",
       "version_major": 2,
       "version_minor": 0
      },
      "text/plain": [
       "  0%|          | 0/5565 [00:00<?, ?it/s]"
      ]
     },
     "metadata": {},
     "output_type": "display_data"
    },
    {
     "name": "stdout",
     "output_type": "stream",
     "text": [
      "\n",
      " 5% - Weight threshold: 0.933\n"
     ]
    },
    {
     "data": {
      "application/vnd.jupyter.widget-view+json": {
       "model_id": "899b11be50064d7899c5e931cab92ebc",
       "version_major": 2,
       "version_minor": 0
      },
      "text/plain": [
       "  0%|          | 0/3934 [00:00<?, ?it/s]"
      ]
     },
     "metadata": {},
     "output_type": "display_data"
    },
    {
     "data": {
      "text/html": [
       "<div>\n",
       "<style scoped>\n",
       "    .dataframe tbody tr th:only-of-type {\n",
       "        vertical-align: middle;\n",
       "    }\n",
       "\n",
       "    .dataframe tbody tr th {\n",
       "        vertical-align: top;\n",
       "    }\n",
       "\n",
       "    .dataframe thead th {\n",
       "        text-align: right;\n",
       "    }\n",
       "</style>\n",
       "<table border=\"1\" class=\"dataframe\">\n",
       "  <thead>\n",
       "    <tr style=\"text-align: right;\">\n",
       "      <th></th>\n",
       "      <th>Percentage</th>\n",
       "      <th>Real Percentage</th>\n",
       "      <th>Number of voxels</th>\n",
       "      <th>Weight</th>\n",
       "      <th>Distance</th>\n",
       "      <th>Clustering</th>\n",
       "      <th>Global Efficiency</th>\n",
       "      <th>Shannon Entropy</th>\n",
       "    </tr>\n",
       "  </thead>\n",
       "  <tbody>\n",
       "    <tr>\n",
       "      <th>0</th>\n",
       "      <td>100</td>\n",
       "      <td>100.000000</td>\n",
       "      <td>13132</td>\n",
       "      <td>0.801</td>\n",
       "      <td>4.800618</td>\n",
       "      <td>3036.790313</td>\n",
       "      <td>0.164481</td>\n",
       "      <td>4.778159</td>\n",
       "    </tr>\n",
       "    <tr>\n",
       "      <th>1</th>\n",
       "      <td>95</td>\n",
       "      <td>94.476631</td>\n",
       "      <td>12924</td>\n",
       "      <td>0.805</td>\n",
       "      <td>4.784952</td>\n",
       "      <td>2965.798581</td>\n",
       "      <td>0.160195</td>\n",
       "      <td>4.727833</td>\n",
       "    </tr>\n",
       "    <tr>\n",
       "      <th>2</th>\n",
       "      <td>90</td>\n",
       "      <td>90.460955</td>\n",
       "      <td>12790</td>\n",
       "      <td>0.808</td>\n",
       "      <td>4.746974</td>\n",
       "      <td>2907.106878</td>\n",
       "      <td>0.156858</td>\n",
       "      <td>4.692871</td>\n",
       "    </tr>\n",
       "    <tr>\n",
       "      <th>3</th>\n",
       "      <td>85</td>\n",
       "      <td>85.283353</td>\n",
       "      <td>12583</td>\n",
       "      <td>0.812</td>\n",
       "      <td>4.715730</td>\n",
       "      <td>2838.159985</td>\n",
       "      <td>0.152870</td>\n",
       "      <td>4.645633</td>\n",
       "    </tr>\n",
       "    <tr>\n",
       "      <th>4</th>\n",
       "      <td>80</td>\n",
       "      <td>80.205816</td>\n",
       "      <td>12333</td>\n",
       "      <td>0.816</td>\n",
       "      <td>4.728963</td>\n",
       "      <td>2766.437905</td>\n",
       "      <td>0.149706</td>\n",
       "      <td>4.605067</td>\n",
       "    </tr>\n",
       "    <tr>\n",
       "      <th>5</th>\n",
       "      <td>75</td>\n",
       "      <td>75.365643</td>\n",
       "      <td>12116</td>\n",
       "      <td>0.820</td>\n",
       "      <td>4.630384</td>\n",
       "      <td>2698.704411</td>\n",
       "      <td>0.145997</td>\n",
       "      <td>4.557523</td>\n",
       "    </tr>\n",
       "    <tr>\n",
       "      <th>6</th>\n",
       "      <td>70</td>\n",
       "      <td>69.641119</td>\n",
       "      <td>11811</td>\n",
       "      <td>0.825</td>\n",
       "      <td>4.599247</td>\n",
       "      <td>2618.526570</td>\n",
       "      <td>0.141001</td>\n",
       "      <td>4.506871</td>\n",
       "    </tr>\n",
       "    <tr>\n",
       "      <th>7</th>\n",
       "      <td>65</td>\n",
       "      <td>65.244722</td>\n",
       "      <td>11586</td>\n",
       "      <td>0.829</td>\n",
       "      <td>4.520476</td>\n",
       "      <td>2548.819341</td>\n",
       "      <td>0.136861</td>\n",
       "      <td>4.460272</td>\n",
       "    </tr>\n",
       "    <tr>\n",
       "      <th>8</th>\n",
       "      <td>60</td>\n",
       "      <td>60.024056</td>\n",
       "      <td>11266</td>\n",
       "      <td>0.834</td>\n",
       "      <td>4.551358</td>\n",
       "      <td>2460.677596</td>\n",
       "      <td>0.133010</td>\n",
       "      <td>4.408947</td>\n",
       "    </tr>\n",
       "    <tr>\n",
       "      <th>9</th>\n",
       "      <td>55</td>\n",
       "      <td>55.054464</td>\n",
       "      <td>10972</td>\n",
       "      <td>0.839</td>\n",
       "      <td>4.464356</td>\n",
       "      <td>2371.206993</td>\n",
       "      <td>0.129597</td>\n",
       "      <td>4.346249</td>\n",
       "    </tr>\n",
       "    <tr>\n",
       "      <th>10</th>\n",
       "      <td>50</td>\n",
       "      <td>50.384376</td>\n",
       "      <td>10657</td>\n",
       "      <td>0.844</td>\n",
       "      <td>4.548591</td>\n",
       "      <td>2293.338932</td>\n",
       "      <td>0.125387</td>\n",
       "      <td>4.289455</td>\n",
       "    </tr>\n",
       "    <tr>\n",
       "      <th>11</th>\n",
       "      <td>45</td>\n",
       "      <td>45.100886</td>\n",
       "      <td>10266</td>\n",
       "      <td>0.850</td>\n",
       "      <td>4.459058</td>\n",
       "      <td>2183.150705</td>\n",
       "      <td>0.119091</td>\n",
       "      <td>4.217446</td>\n",
       "    </tr>\n",
       "    <tr>\n",
       "      <th>12</th>\n",
       "      <td>40</td>\n",
       "      <td>40.195946</td>\n",
       "      <td>9837</td>\n",
       "      <td>0.856</td>\n",
       "      <td>4.573241</td>\n",
       "      <td>2067.116283</td>\n",
       "      <td>0.115569</td>\n",
       "      <td>4.151119</td>\n",
       "    </tr>\n",
       "    <tr>\n",
       "      <th>13</th>\n",
       "      <td>35</td>\n",
       "      <td>34.950608</td>\n",
       "      <td>9352</td>\n",
       "      <td>0.863</td>\n",
       "      <td>4.155595</td>\n",
       "      <td>1940.875028</td>\n",
       "      <td>0.110465</td>\n",
       "      <td>4.073899</td>\n",
       "    </tr>\n",
       "    <tr>\n",
       "      <th>14</th>\n",
       "      <td>30</td>\n",
       "      <td>30.154299</td>\n",
       "      <td>8885</td>\n",
       "      <td>0.870</td>\n",
       "      <td>4.073014</td>\n",
       "      <td>1813.753364</td>\n",
       "      <td>0.105481</td>\n",
       "      <td>3.982070</td>\n",
       "    </tr>\n",
       "    <tr>\n",
       "      <th>15</th>\n",
       "      <td>25</td>\n",
       "      <td>25.202983</td>\n",
       "      <td>8336</td>\n",
       "      <td>0.878</td>\n",
       "      <td>4.036307</td>\n",
       "      <td>1680.756124</td>\n",
       "      <td>0.099999</td>\n",
       "      <td>3.873027</td>\n",
       "    </tr>\n",
       "    <tr>\n",
       "      <th>16</th>\n",
       "      <td>20</td>\n",
       "      <td>19.814517</td>\n",
       "      <td>7558</td>\n",
       "      <td>0.888</td>\n",
       "      <td>4.277193</td>\n",
       "      <td>1512.045811</td>\n",
       "      <td>0.094436</td>\n",
       "      <td>3.770591</td>\n",
       "    </tr>\n",
       "    <tr>\n",
       "      <th>17</th>\n",
       "      <td>15</td>\n",
       "      <td>14.863772</td>\n",
       "      <td>6737</td>\n",
       "      <td>0.899</td>\n",
       "      <td>3.978087</td>\n",
       "      <td>1318.023280</td>\n",
       "      <td>0.082342</td>\n",
       "      <td>3.619815</td>\n",
       "    </tr>\n",
       "    <tr>\n",
       "      <th>18</th>\n",
       "      <td>10</td>\n",
       "      <td>9.912456</td>\n",
       "      <td>5565</td>\n",
       "      <td>0.913</td>\n",
       "      <td>3.422130</td>\n",
       "      <td>1070.050719</td>\n",
       "      <td>0.073553</td>\n",
       "      <td>3.484258</td>\n",
       "    </tr>\n",
       "    <tr>\n",
       "      <th>19</th>\n",
       "      <td>5</td>\n",
       "      <td>5.058233</td>\n",
       "      <td>3934</td>\n",
       "      <td>0.933</td>\n",
       "      <td>3.405518</td>\n",
       "      <td>739.020173</td>\n",
       "      <td>0.063910</td>\n",
       "      <td>3.278682</td>\n",
       "    </tr>\n",
       "  </tbody>\n",
       "</table>\n",
       "</div>"
      ],
      "text/plain": [
       "    Percentage  Real Percentage  Number of voxels  Weight  Distance  \\\n",
       "0          100       100.000000             13132   0.801  4.800618   \n",
       "1           95        94.476631             12924   0.805  4.784952   \n",
       "2           90        90.460955             12790   0.808  4.746974   \n",
       "3           85        85.283353             12583   0.812  4.715730   \n",
       "4           80        80.205816             12333   0.816  4.728963   \n",
       "5           75        75.365643             12116   0.820  4.630384   \n",
       "6           70        69.641119             11811   0.825  4.599247   \n",
       "7           65        65.244722             11586   0.829  4.520476   \n",
       "8           60        60.024056             11266   0.834  4.551358   \n",
       "9           55        55.054464             10972   0.839  4.464356   \n",
       "10          50        50.384376             10657   0.844  4.548591   \n",
       "11          45        45.100886             10266   0.850  4.459058   \n",
       "12          40        40.195946              9837   0.856  4.573241   \n",
       "13          35        34.950608              9352   0.863  4.155595   \n",
       "14          30        30.154299              8885   0.870  4.073014   \n",
       "15          25        25.202983              8336   0.878  4.036307   \n",
       "16          20        19.814517              7558   0.888  4.277193   \n",
       "17          15        14.863772              6737   0.899  3.978087   \n",
       "18          10         9.912456              5565   0.913  3.422130   \n",
       "19           5         5.058233              3934   0.933  3.405518   \n",
       "\n",
       "     Clustering  Global Efficiency  Shannon Entropy  \n",
       "0   3036.790313           0.164481         4.778159  \n",
       "1   2965.798581           0.160195         4.727833  \n",
       "2   2907.106878           0.156858         4.692871  \n",
       "3   2838.159985           0.152870         4.645633  \n",
       "4   2766.437905           0.149706         4.605067  \n",
       "5   2698.704411           0.145997         4.557523  \n",
       "6   2618.526570           0.141001         4.506871  \n",
       "7   2548.819341           0.136861         4.460272  \n",
       "8   2460.677596           0.133010         4.408947  \n",
       "9   2371.206993           0.129597         4.346249  \n",
       "10  2293.338932           0.125387         4.289455  \n",
       "11  2183.150705           0.119091         4.217446  \n",
       "12  2067.116283           0.115569         4.151119  \n",
       "13  1940.875028           0.110465         4.073899  \n",
       "14  1813.753364           0.105481         3.982070  \n",
       "15  1680.756124           0.099999         3.873027  \n",
       "16  1512.045811           0.094436         3.770591  \n",
       "17  1318.023280           0.082342         3.619815  \n",
       "18  1070.050719           0.073553         3.484258  \n",
       "19   739.020173           0.063910         3.278682  "
      ]
     },
     "execution_count": 10,
     "metadata": {},
     "output_type": "execute_result"
    }
   ],
   "source": [
    "get_params()"
   ]
  }
 ],
 "metadata": {
  "kernelspec": {
   "display_name": "Python 3 (ipykernel)",
   "language": "python",
   "name": "python3"
  },
  "language_info": {
   "codemirror_mode": {
    "name": "ipython",
    "version": 3
   },
   "file_extension": ".py",
   "mimetype": "text/x-python",
   "name": "python",
   "nbconvert_exporter": "python",
   "pygments_lexer": "ipython3",
   "version": "3.9.13"
  }
 },
 "nbformat": 4,
 "nbformat_minor": 5
}
