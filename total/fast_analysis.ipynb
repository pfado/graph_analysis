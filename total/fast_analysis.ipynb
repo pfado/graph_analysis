{
 "cells": [
  {
   "cell_type": "code",
   "execution_count": 1,
   "id": "699074d1-254e-4971-a21b-c678784273ff",
   "metadata": {},
   "outputs": [],
   "source": [
    "import cugraph\n",
    "import cudf\n",
    "\n",
    "import numpy as np\n",
    "import os\n",
    "\n",
    "from tqdm.notebook import tqdm"
   ]
  },
  {
   "cell_type": "code",
   "execution_count": 2,
   "id": "a011a373-9c05-45c6-be60-e70f3e5cb2a9",
   "metadata": {},
   "outputs": [],
   "source": [
    "file = 'matrices_sin_filt/cvv_siS01.txt'\n",
    "output_folder = 'parametros_matrices_no_filtradas'"
   ]
  },
  {
   "cell_type": "code",
   "execution_count": 3,
   "id": "6582e2c6-8876-4f15-84ff-ec6a82b68ab0",
   "metadata": {},
   "outputs": [
    {
     "data": {
      "text/html": [
       "<div>\n",
       "<style scoped>\n",
       "    .dataframe tbody tr th:only-of-type {\n",
       "        vertical-align: middle;\n",
       "    }\n",
       "\n",
       "    .dataframe tbody tr th {\n",
       "        vertical-align: top;\n",
       "    }\n",
       "\n",
       "    .dataframe thead th {\n",
       "        text-align: right;\n",
       "    }\n",
       "</style>\n",
       "<table border=\"1\" class=\"dataframe\">\n",
       "  <thead>\n",
       "    <tr style=\"text-align: right;\">\n",
       "      <th></th>\n",
       "      <th>Source</th>\n",
       "      <th>Target</th>\n",
       "      <th>Weight</th>\n",
       "    </tr>\n",
       "  </thead>\n",
       "  <tbody>\n",
       "    <tr>\n",
       "      <th>0</th>\n",
       "      <td>5725</td>\n",
       "      <td>5726</td>\n",
       "      <td>0.524</td>\n",
       "    </tr>\n",
       "    <tr>\n",
       "      <th>1</th>\n",
       "      <td>5726</td>\n",
       "      <td>34087</td>\n",
       "      <td>0.531</td>\n",
       "    </tr>\n",
       "    <tr>\n",
       "      <th>2</th>\n",
       "      <td>5726</td>\n",
       "      <td>62425</td>\n",
       "      <td>0.521</td>\n",
       "    </tr>\n",
       "    <tr>\n",
       "      <th>3</th>\n",
       "      <td>5727</td>\n",
       "      <td>17896</td>\n",
       "      <td>0.527</td>\n",
       "    </tr>\n",
       "    <tr>\n",
       "      <th>4</th>\n",
       "      <td>5727</td>\n",
       "      <td>21783</td>\n",
       "      <td>0.503</td>\n",
       "    </tr>\n",
       "    <tr>\n",
       "      <th>...</th>\n",
       "      <td>...</td>\n",
       "      <td>...</td>\n",
       "      <td>...</td>\n",
       "    </tr>\n",
       "    <tr>\n",
       "      <th>7294127</th>\n",
       "      <td>76323</td>\n",
       "      <td>76387</td>\n",
       "      <td>0.551</td>\n",
       "    </tr>\n",
       "    <tr>\n",
       "      <th>7294128</th>\n",
       "      <td>76383</td>\n",
       "      <td>76384</td>\n",
       "      <td>0.572</td>\n",
       "    </tr>\n",
       "    <tr>\n",
       "      <th>7294129</th>\n",
       "      <td>76385</td>\n",
       "      <td>76449</td>\n",
       "      <td>0.531</td>\n",
       "    </tr>\n",
       "    <tr>\n",
       "      <th>7294130</th>\n",
       "      <td>76447</td>\n",
       "      <td>76448</td>\n",
       "      <td>0.608</td>\n",
       "    </tr>\n",
       "    <tr>\n",
       "      <th>7294131</th>\n",
       "      <td>76450</td>\n",
       "      <td>76451</td>\n",
       "      <td>0.799</td>\n",
       "    </tr>\n",
       "  </tbody>\n",
       "</table>\n",
       "<p>7294132 rows × 3 columns</p>\n",
       "</div>"
      ],
      "text/plain": [
       "         Source  Target  Weight\n",
       "0          5725    5726   0.524\n",
       "1          5726   34087   0.531\n",
       "2          5726   62425   0.521\n",
       "3          5727   17896   0.527\n",
       "4          5727   21783   0.503\n",
       "...         ...     ...     ...\n",
       "7294127   76323   76387   0.551\n",
       "7294128   76383   76384   0.572\n",
       "7294129   76385   76449   0.531\n",
       "7294130   76447   76448   0.608\n",
       "7294131   76450   76451   0.799\n",
       "\n",
       "[7294132 rows x 3 columns]"
      ]
     },
     "execution_count": 3,
     "metadata": {},
     "output_type": "execute_result"
    }
   ],
   "source": [
    "file_name = file.split(os.sep)[-1].split('-')[-1].split('.')[0]\n",
    "\n",
    "df = cudf.read_csv(\n",
    "    filepath_or_buffer=file,\n",
    "    header=None,\n",
    "    names=['Source', 'Target', 'Weight'],\n",
    "    sep=' ')\n",
    "\n",
    "df"
   ]
  },
  {
   "cell_type": "code",
   "execution_count": 4,
   "id": "26719c5d-0ef2-4e02-a921-ac3313461d0b",
   "metadata": {},
   "outputs": [
    {
     "data": {
      "text/plain": [
       "[50, 45, 40, 35, 30, 25, 20, 15, 10, 5]"
      ]
     },
     "execution_count": 4,
     "metadata": {},
     "output_type": "execute_result"
    }
   ],
   "source": [
    "#percentages = [5 * (20 - i) for i in range(1, 20)] # [5, 95]\n",
    "percentages = [5 * (10 - i) for i in range(0,10)] # [10,50]\n",
    "\n",
    "percentages"
   ]
  },
  {
   "cell_type": "code",
   "execution_count": 5,
   "id": "a8695dba-dc1b-4575-8f05-19c7d4f8b13b",
   "metadata": {},
   "outputs": [
    {
     "data": {
      "application/vnd.jupyter.widget-view+json": {
       "model_id": "476086402b0848fc85d25df27b00cc89",
       "version_major": 2,
       "version_minor": 0
      },
      "text/plain": [
       "  0%|          | 0/491 [00:00<?, ?it/s]"
      ]
     },
     "metadata": {},
     "output_type": "display_data"
    },
    {
     "data": {
      "text/html": [
       "<div>\n",
       "<style scoped>\n",
       "    .dataframe tbody tr th:only-of-type {\n",
       "        vertical-align: middle;\n",
       "    }\n",
       "\n",
       "    .dataframe tbody tr th {\n",
       "        vertical-align: top;\n",
       "    }\n",
       "\n",
       "    .dataframe thead th {\n",
       "        text-align: right;\n",
       "    }\n",
       "</style>\n",
       "<table border=\"1\" class=\"dataframe\">\n",
       "  <thead>\n",
       "    <tr style=\"text-align: right;\">\n",
       "      <th></th>\n",
       "      <th>Weight</th>\n",
       "      <th>N</th>\n",
       "      <th>n%</th>\n",
       "      <th>closest_n%</th>\n",
       "    </tr>\n",
       "  </thead>\n",
       "  <tbody>\n",
       "    <tr>\n",
       "      <th>99</th>\n",
       "      <td>0.599</td>\n",
       "      <td>7287546</td>\n",
       "      <td>49.954854</td>\n",
       "      <td>50</td>\n",
       "    </tr>\n",
       "    <tr>\n",
       "      <th>112</th>\n",
       "      <td>0.612</td>\n",
       "      <td>6583672</td>\n",
       "      <td>45.129921</td>\n",
       "      <td>45</td>\n",
       "    </tr>\n",
       "    <tr>\n",
       "      <th>127</th>\n",
       "      <td>0.627</td>\n",
       "      <td>5832078</td>\n",
       "      <td>39.977875</td>\n",
       "      <td>40</td>\n",
       "    </tr>\n",
       "    <tr>\n",
       "      <th>143</th>\n",
       "      <td>0.643</td>\n",
       "      <td>5100118</td>\n",
       "      <td>34.960417</td>\n",
       "      <td>35</td>\n",
       "    </tr>\n",
       "    <tr>\n",
       "      <th>160</th>\n",
       "      <td>0.660</td>\n",
       "      <td>4394370</td>\n",
       "      <td>30.122638</td>\n",
       "      <td>30</td>\n",
       "    </tr>\n",
       "    <tr>\n",
       "      <th>180</th>\n",
       "      <td>0.680</td>\n",
       "      <td>3653268</td>\n",
       "      <td>25.042514</td>\n",
       "      <td>25</td>\n",
       "    </tr>\n",
       "    <tr>\n",
       "      <th>203</th>\n",
       "      <td>0.703</td>\n",
       "      <td>2905378</td>\n",
       "      <td>19.915858</td>\n",
       "      <td>20</td>\n",
       "    </tr>\n",
       "    <tr>\n",
       "      <th>229</th>\n",
       "      <td>0.729</td>\n",
       "      <td>2187452</td>\n",
       "      <td>14.994601</td>\n",
       "      <td>15</td>\n",
       "    </tr>\n",
       "    <tr>\n",
       "      <th>262</th>\n",
       "      <td>0.762</td>\n",
       "      <td>1451214</td>\n",
       "      <td>9.947818</td>\n",
       "      <td>10</td>\n",
       "    </tr>\n",
       "    <tr>\n",
       "      <th>307</th>\n",
       "      <td>0.807</td>\n",
       "      <td>732108</td>\n",
       "      <td>5.018472</td>\n",
       "      <td>5</td>\n",
       "    </tr>\n",
       "  </tbody>\n",
       "</table>\n",
       "</div>"
      ],
      "text/plain": [
       "     Weight        N         n%  closest_n%\n",
       "99    0.599  7287546  49.954854          50\n",
       "112   0.612  6583672  45.129921          45\n",
       "127   0.627  5832078  39.977875          40\n",
       "143   0.643  5100118  34.960417          35\n",
       "160   0.660  4394370  30.122638          30\n",
       "180   0.680  3653268  25.042514          25\n",
       "203   0.703  2905378  19.915858          20\n",
       "229   0.729  2187452  14.994601          15\n",
       "262   0.762  1451214   9.947818          10\n",
       "307   0.807   732108   5.018472           5"
      ]
     },
     "execution_count": 5,
     "metadata": {},
     "output_type": "execute_result"
    }
   ],
   "source": [
    "fields = []\n",
    "\n",
    "list_weights = df['Weight'].drop_duplicates().to_arrow().to_pylist()\n",
    "nodes_weight = cudf.concat([\n",
    "    df[['Source', 'Weight']].rename(columns={\"Source\": \"Vertex\", \"Weight\": \"Weight\"}),\n",
    "    df[['Target', 'Weight']].rename(columns={\"Target\": \"Vertex\", \"Weight\": \"Weight\"})\n",
    "                            ])\n",
    "node_list = nodes_weight['Vertex'].drop_duplicates().to_arrow().to_pylist()\n",
    "\n",
    "\n",
    "for weight in tqdm(list_weights):\n",
    "    n = len(nodes_weight[nodes_weight['Weight'] >= weight])\n",
    "    fields.append({\n",
    "            'Weight': weight,\n",
    "            'N': n,\n",
    "            'n%': (n / len(nodes_weight)) * 100\n",
    "        })\n",
    "\n",
    "\n",
    "df_percentages = cudf.DataFrame(fields).sort_values(by='n%', ascending=False)\n",
    "weight_df = cudf.DataFrame()\n",
    "closest_percentage = []\n",
    "\n",
    "for percentage in percentages:\n",
    "    val_list = np.abs(df_percentages['n%'] - percentage).to_arrow().to_pylist()\n",
    "    val_index = val_list.index(\n",
    "        min(val_list)\n",
    "    )\n",
    "    value = float(df_percentages['n%'].values[val_index])\n",
    "    weight_df = cudf.concat([\n",
    "                       weight_df,\n",
    "                       df_percentages[df_percentages['n%'] == value]\n",
    "\n",
    "    ])\n",
    "    for i in range(df_percentages[df_percentages['n%'] == value].shape[0]):\n",
    "        closest_percentage.append(percentage)\n",
    "\n",
    "weight_df['closest_n%'] = closest_percentage\n",
    "\n",
    "weight_df"
   ]
  },
  {
   "cell_type": "code",
   "execution_count": 6,
   "id": "0f07c949-a5ed-4833-8592-c4b5de5f10b0",
   "metadata": {},
   "outputs": [],
   "source": [
    "def clustering(G):\n",
    "    degree = G.in_degree()\n",
    "    \n",
    "    clusters = degree.merge(cugraph.triangle_count(G))\n",
    "    clusters = clusters[clusters['counts'] >= 1]\n",
    "    \n",
    "    return (clusters['counts']/(clusters['degree']*(clusters['degree'] - 1))).sum()"
   ]
  },
  {
   "cell_type": "code",
   "execution_count": 7,
   "id": "c12f91c4-2974-49d2-9d66-52f34b4a2f7f",
   "metadata": {},
   "outputs": [],
   "source": [
    "def distance(G, nodes):\n",
    "    dist = 0\n",
    "    inv_dist = 0\n",
    "\n",
    "    for node in tqdm(nodes):\n",
    "        distances = cugraph.sssp(G, node)\n",
    "        dist += distances[distances['predecessor'] > -1]['distance'].sum()/(len(nodes)*(len(nodes) - 1))\n",
    "        inv_dist += (1/distances[distances['predecessor'] > -1]['distance']).sum()/(len(nodes)*(len(nodes) - 1))\n",
    "    return dist, inv_dist"
   ]
  },
  {
   "cell_type": "code",
   "execution_count": 8,
   "id": "1ceef0eb-e1b5-4e57-85a3-bec91ee232e8",
   "metadata": {},
   "outputs": [],
   "source": [
    "def shannon_entropy(G):\n",
    "    hitcount = G.in_degree()\n",
    "    frequencies = hitcount[hitcount['degree'] > 0]['degree'].value_counts().to_numpy()\n",
    "\n",
    "    p_k = frequencies/sum(frequencies)\n",
    "    return sum(-p_k * np.log(p_k))"
   ]
  },
  {
   "cell_type": "code",
   "execution_count": 9,
   "id": "662e30f1-2a24-4e08-83cf-90f714bc7e7d",
   "metadata": {},
   "outputs": [],
   "source": [
    "def get_params():\n",
    "    \n",
    "    print('##### BEGING THE PROCESS OF OBTAINING THE NETWORK PARAMETERS USING DIFFERENT THRESHOLDS ########')\n",
    "    # print(f'\\n 100% - Weight threshold: 0.500')\n",
    "    \n",
    "    #G = cugraph.Graph()\n",
    "    #G.from_cudf_edgelist(df, source='Source', destination='Target', renumber=False)\n",
    "\n",
    "    #clustering_zero = clustering(G)\n",
    "    #distance_zero, efficiency_zero = distance(G, node_list)\n",
    "    #shannon_zero = shannon_entropy(G)\n",
    "\n",
    "    #fields = [{\n",
    "     #         'Percentage': 100,\n",
    "     #         'Real Percentage': 100,\n",
    "     #         'Number of voxels': len(node_list),\n",
    "     #         'Weight': 0.500,\n",
    "     #         'Distance': distance_zero,\n",
    "     #         'Clustering': clustering_zero,\n",
    "     #         'Global Efficiency': efficiency_zero,\n",
    "     #         'Shannon Entropy': shannon_zero\n",
    "     #     }]\n",
    "    \n",
    "    #G.clear()\n",
    "    fields = []\n",
    "    \n",
    "    if weight_df.empty:\n",
    "        return cudf.DataFrame()\n",
    "\n",
    "    for percentage in percentages:\n",
    "        \n",
    "        weight = weight_df[weight_df['closest_n%'] == percentage]['Weight'].to_numpy()[0]\n",
    "        print(f'\\n {percentage}% - Weight threshold: {weight:.3f}')\n",
    "        filt_df = df[df['Weight'] >= weight]\n",
    "        nodes = nodes_weight[nodes_weight['Weight'] >= weight]['Vertex'].drop_duplicates().to_arrow().to_pylist()\n",
    "\n",
    "        G = cugraph.Graph()\n",
    "        G.from_cudf_edgelist(filt_df, source='Source', destination='Target', renumber=False)\n",
    "\n",
    "        if len(G.edges()) < 1:\n",
    "            continue\n",
    "      \n",
    "        clustering_coeff = clustering(G)\n",
    "        distance_coeff, efficiency_coeff = distance(G, nodes)\n",
    "        shannon_coeff = shannon_entropy(G)\n",
    "\n",
    "        fields.append({\n",
    "              'Percentage': percentage,\n",
    "              'Real Percentage': weight_df[weight_df['closest_n%'] == percentage]['n%'].to_numpy()[0],\n",
    "              'Number of voxels': len(nodes),\n",
    "              'Weight': weight_df[weight_df['closest_n%'] == percentage]['Weight'].to_numpy()[0],\n",
    "              'Distance': distance_coeff,\n",
    "              'Clustering': clustering_coeff,\n",
    "              'Global Efficiency': efficiency_coeff,\n",
    "              'Shannon Entropy': shannon_coeff\n",
    "          })\n",
    "        G.clear()\n",
    "\n",
    "    dataframe = cudf.DataFrame(fields)\n",
    "\n",
    "    if dataframe.empty:\n",
    "        return cudf.DataFrame()\n",
    "\n",
    "    dataframe.to_csv(\n",
    "          path_or_buf=f'{output_folder}/params-{file_name}.txt',\n",
    "          index=False,\n",
    "          header=True,\n",
    "          sep='\\t',\n",
    "      )\n",
    "\n",
    "    return dataframe"
   ]
  },
  {
   "cell_type": "code",
   "execution_count": 10,
   "id": "a1182f83-ee02-44b2-b317-8c7c2d0658b1",
   "metadata": {},
   "outputs": [
    {
     "name": "stdout",
     "output_type": "stream",
     "text": [
      "##### BEGING THE PROCESS OF OBTAINING THE NETWORK PARAMETERS USING DIFFERENT THRESHOLDS ########\n",
      "\n",
      " 50% - Weight threshold: 0.599\n"
     ]
    },
    {
     "data": {
      "application/vnd.jupyter.widget-view+json": {
       "model_id": "e343a0729db54163a1a980fcd79db5a0",
       "version_major": 2,
       "version_minor": 0
      },
      "text/plain": [
       "  0%|          | 0/15620 [00:00<?, ?it/s]"
      ]
     },
     "metadata": {},
     "output_type": "display_data"
    },
    {
     "name": "stdout",
     "output_type": "stream",
     "text": [
      "\n",
      " 45% - Weight threshold: 0.612\n"
     ]
    },
    {
     "data": {
      "application/vnd.jupyter.widget-view+json": {
       "model_id": "3310b97495db45f491b9a3e1692362d7",
       "version_major": 2,
       "version_minor": 0
      },
      "text/plain": [
       "  0%|          | 0/15276 [00:00<?, ?it/s]"
      ]
     },
     "metadata": {},
     "output_type": "display_data"
    },
    {
     "name": "stdout",
     "output_type": "stream",
     "text": [
      "\n",
      " 40% - Weight threshold: 0.627\n"
     ]
    },
    {
     "data": {
      "application/vnd.jupyter.widget-view+json": {
       "model_id": "921464caa37940618133de9afb672454",
       "version_major": 2,
       "version_minor": 0
      },
      "text/plain": [
       "  0%|          | 0/14846 [00:00<?, ?it/s]"
      ]
     },
     "metadata": {},
     "output_type": "display_data"
    },
    {
     "name": "stdout",
     "output_type": "stream",
     "text": [
      "\n",
      " 35% - Weight threshold: 0.643\n"
     ]
    },
    {
     "data": {
      "application/vnd.jupyter.widget-view+json": {
       "model_id": "de48ba8205ad45c48757169f369e5c8f",
       "version_major": 2,
       "version_minor": 0
      },
      "text/plain": [
       "  0%|          | 0/14396 [00:00<?, ?it/s]"
      ]
     },
     "metadata": {},
     "output_type": "display_data"
    },
    {
     "name": "stdout",
     "output_type": "stream",
     "text": [
      "\n",
      " 30% - Weight threshold: 0.660\n"
     ]
    },
    {
     "data": {
      "application/vnd.jupyter.widget-view+json": {
       "model_id": "a5f6092bd6a7457c851712906066d396",
       "version_major": 2,
       "version_minor": 0
      },
      "text/plain": [
       "  0%|          | 0/13856 [00:00<?, ?it/s]"
      ]
     },
     "metadata": {},
     "output_type": "display_data"
    },
    {
     "name": "stdout",
     "output_type": "stream",
     "text": [
      "\n",
      " 25% - Weight threshold: 0.680\n"
     ]
    },
    {
     "data": {
      "application/vnd.jupyter.widget-view+json": {
       "model_id": "41b9ae1aa7d24d899034531897a6d0b4",
       "version_major": 2,
       "version_minor": 0
      },
      "text/plain": [
       "  0%|          | 0/13129 [00:00<?, ?it/s]"
      ]
     },
     "metadata": {},
     "output_type": "display_data"
    },
    {
     "name": "stdout",
     "output_type": "stream",
     "text": [
      "\n",
      " 20% - Weight threshold: 0.703\n"
     ]
    },
    {
     "data": {
      "application/vnd.jupyter.widget-view+json": {
       "model_id": "db120a98fc094fee935d2c380a6fb2d0",
       "version_major": 2,
       "version_minor": 0
      },
      "text/plain": [
       "  0%|          | 0/12284 [00:00<?, ?it/s]"
      ]
     },
     "metadata": {},
     "output_type": "display_data"
    },
    {
     "name": "stdout",
     "output_type": "stream",
     "text": [
      "\n",
      " 15% - Weight threshold: 0.729\n"
     ]
    },
    {
     "data": {
      "application/vnd.jupyter.widget-view+json": {
       "model_id": "8b34992c9c2e479ba120cdef851c4c89",
       "version_major": 2,
       "version_minor": 0
      },
      "text/plain": [
       "  0%|          | 0/11248 [00:00<?, ?it/s]"
      ]
     },
     "metadata": {},
     "output_type": "display_data"
    },
    {
     "name": "stdout",
     "output_type": "stream",
     "text": [
      "\n",
      " 10% - Weight threshold: 0.762\n"
     ]
    },
    {
     "data": {
      "application/vnd.jupyter.widget-view+json": {
       "model_id": "e9482e4d90504cca850cd179d8e4ccb0",
       "version_major": 2,
       "version_minor": 0
      },
      "text/plain": [
       "  0%|          | 0/9737 [00:00<?, ?it/s]"
      ]
     },
     "metadata": {},
     "output_type": "display_data"
    },
    {
     "name": "stdout",
     "output_type": "stream",
     "text": [
      "\n",
      " 5% - Weight threshold: 0.807\n"
     ]
    },
    {
     "data": {
      "application/vnd.jupyter.widget-view+json": {
       "model_id": "d723543a03e54c909c7a75cd4c7cb5dd",
       "version_major": 2,
       "version_minor": 0
      },
      "text/plain": [
       "  0%|          | 0/7608 [00:00<?, ?it/s]"
      ]
     },
     "metadata": {},
     "output_type": "display_data"
    },
    {
     "data": {
      "text/html": [
       "<div>\n",
       "<style scoped>\n",
       "    .dataframe tbody tr th:only-of-type {\n",
       "        vertical-align: middle;\n",
       "    }\n",
       "\n",
       "    .dataframe tbody tr th {\n",
       "        vertical-align: top;\n",
       "    }\n",
       "\n",
       "    .dataframe thead th {\n",
       "        text-align: right;\n",
       "    }\n",
       "</style>\n",
       "<table border=\"1\" class=\"dataframe\">\n",
       "  <thead>\n",
       "    <tr style=\"text-align: right;\">\n",
       "      <th></th>\n",
       "      <th>Percentage</th>\n",
       "      <th>Real Percentage</th>\n",
       "      <th>Number of voxels</th>\n",
       "      <th>Weight</th>\n",
       "      <th>Distance</th>\n",
       "      <th>Clustering</th>\n",
       "      <th>Global Efficiency</th>\n",
       "      <th>Shannon Entropy</th>\n",
       "    </tr>\n",
       "  </thead>\n",
       "  <tbody>\n",
       "    <tr>\n",
       "      <th>0</th>\n",
       "      <td>50</td>\n",
       "      <td>49.954854</td>\n",
       "      <td>15620</td>\n",
       "      <td>0.599</td>\n",
       "      <td>3.416514</td>\n",
       "      <td>4151.944488</td>\n",
       "      <td>0.317286</td>\n",
       "      <td>6.365996</td>\n",
       "    </tr>\n",
       "    <tr>\n",
       "      <th>1</th>\n",
       "      <td>45</td>\n",
       "      <td>45.129921</td>\n",
       "      <td>15276</td>\n",
       "      <td>0.612</td>\n",
       "      <td>3.499682</td>\n",
       "      <td>4046.306179</td>\n",
       "      <td>0.307563</td>\n",
       "      <td>6.248608</td>\n",
       "    </tr>\n",
       "    <tr>\n",
       "      <th>2</th>\n",
       "      <td>40</td>\n",
       "      <td>39.977875</td>\n",
       "      <td>14846</td>\n",
       "      <td>0.627</td>\n",
       "      <td>3.620462</td>\n",
       "      <td>3909.283841</td>\n",
       "      <td>0.296462</td>\n",
       "      <td>6.111609</td>\n",
       "    </tr>\n",
       "    <tr>\n",
       "      <th>3</th>\n",
       "      <td>35</td>\n",
       "      <td>34.960417</td>\n",
       "      <td>14396</td>\n",
       "      <td>0.643</td>\n",
       "      <td>3.727298</td>\n",
       "      <td>3774.913296</td>\n",
       "      <td>0.282992</td>\n",
       "      <td>5.958158</td>\n",
       "    </tr>\n",
       "    <tr>\n",
       "      <th>4</th>\n",
       "      <td>30</td>\n",
       "      <td>30.122638</td>\n",
       "      <td>13856</td>\n",
       "      <td>0.660</td>\n",
       "      <td>3.867498</td>\n",
       "      <td>3605.938542</td>\n",
       "      <td>0.270466</td>\n",
       "      <td>5.794040</td>\n",
       "    </tr>\n",
       "    <tr>\n",
       "      <th>5</th>\n",
       "      <td>25</td>\n",
       "      <td>25.042514</td>\n",
       "      <td>13129</td>\n",
       "      <td>0.680</td>\n",
       "      <td>3.975356</td>\n",
       "      <td>3397.208398</td>\n",
       "      <td>0.255864</td>\n",
       "      <td>5.627726</td>\n",
       "    </tr>\n",
       "    <tr>\n",
       "      <th>6</th>\n",
       "      <td>20</td>\n",
       "      <td>19.915858</td>\n",
       "      <td>12284</td>\n",
       "      <td>0.703</td>\n",
       "      <td>4.201501</td>\n",
       "      <td>3143.874914</td>\n",
       "      <td>0.238884</td>\n",
       "      <td>5.416331</td>\n",
       "    </tr>\n",
       "    <tr>\n",
       "      <th>7</th>\n",
       "      <td>15</td>\n",
       "      <td>14.994601</td>\n",
       "      <td>11248</td>\n",
       "      <td>0.729</td>\n",
       "      <td>4.307763</td>\n",
       "      <td>2824.746347</td>\n",
       "      <td>0.216842</td>\n",
       "      <td>5.167809</td>\n",
       "    </tr>\n",
       "    <tr>\n",
       "      <th>8</th>\n",
       "      <td>10</td>\n",
       "      <td>9.947818</td>\n",
       "      <td>9737</td>\n",
       "      <td>0.762</td>\n",
       "      <td>4.628364</td>\n",
       "      <td>2397.979706</td>\n",
       "      <td>0.192792</td>\n",
       "      <td>4.900155</td>\n",
       "    </tr>\n",
       "    <tr>\n",
       "      <th>9</th>\n",
       "      <td>5</td>\n",
       "      <td>5.018472</td>\n",
       "      <td>7608</td>\n",
       "      <td>0.807</td>\n",
       "      <td>4.658894</td>\n",
       "      <td>1796.025330</td>\n",
       "      <td>0.155882</td>\n",
       "      <td>4.495490</td>\n",
       "    </tr>\n",
       "  </tbody>\n",
       "</table>\n",
       "</div>"
      ],
      "text/plain": [
       "   Percentage  Real Percentage  Number of voxels  Weight  Distance  \\\n",
       "0          50        49.954854             15620   0.599  3.416514   \n",
       "1          45        45.129921             15276   0.612  3.499682   \n",
       "2          40        39.977875             14846   0.627  3.620462   \n",
       "3          35        34.960417             14396   0.643  3.727298   \n",
       "4          30        30.122638             13856   0.660  3.867498   \n",
       "5          25        25.042514             13129   0.680  3.975356   \n",
       "6          20        19.915858             12284   0.703  4.201501   \n",
       "7          15        14.994601             11248   0.729  4.307763   \n",
       "8          10         9.947818              9737   0.762  4.628364   \n",
       "9           5         5.018472              7608   0.807  4.658894   \n",
       "\n",
       "    Clustering  Global Efficiency  Shannon Entropy  \n",
       "0  4151.944488           0.317286         6.365996  \n",
       "1  4046.306179           0.307563         6.248608  \n",
       "2  3909.283841           0.296462         6.111609  \n",
       "3  3774.913296           0.282992         5.958158  \n",
       "4  3605.938542           0.270466         5.794040  \n",
       "5  3397.208398           0.255864         5.627726  \n",
       "6  3143.874914           0.238884         5.416331  \n",
       "7  2824.746347           0.216842         5.167809  \n",
       "8  2397.979706           0.192792         4.900155  \n",
       "9  1796.025330           0.155882         4.495490  "
      ]
     },
     "execution_count": 10,
     "metadata": {},
     "output_type": "execute_result"
    }
   ],
   "source": [
    "get_params()"
   ]
  }
 ],
 "metadata": {
  "kernelspec": {
   "display_name": "Python 3 (ipykernel)",
   "language": "python",
   "name": "python3"
  },
  "language_info": {
   "codemirror_mode": {
    "name": "ipython",
    "version": 3
   },
   "file_extension": ".py",
   "mimetype": "text/x-python",
   "name": "python",
   "nbconvert_exporter": "python",
   "pygments_lexer": "ipython3",
   "version": "3.9.13"
  }
 },
 "nbformat": 4,
 "nbformat_minor": 5
}
